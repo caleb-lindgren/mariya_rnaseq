{
 "cells": [
  {
   "cell_type": "markdown",
   "id": "0f2ac201-9e38-442e-b972-dc4066d8ec30",
   "metadata": {},
   "source": [
    "# Recreate bar charts\n",
    "\n",
    "This notebook uses the RNAseq log2 fold change data to recreate a bar chart from the figures Mariya gave us. It looks the same as hers, so that's good!"
   ]
  },
  {
   "cell_type": "code",
   "execution_count": 1,
   "id": "6334d4a6-0a33-4d0f-a72e-ee2ec377d389",
   "metadata": {},
   "outputs": [],
   "source": [
    "import altair as alt\n",
    "import numpy as np\n",
    "import pandas as pd"
   ]
  },
  {
   "cell_type": "code",
   "execution_count": 2,
   "id": "80fa8947-c80d-4e08-858e-cad1e799abe3",
   "metadata": {},
   "outputs": [],
   "source": [
    "df = pd.\\\n",
    "read_csv(\"data_cleaned.tsv\", sep=\"\\t\", index_col=0)\n",
    "\n",
    "df.columns = df.columns.to_series().str.split(\"_\", expand=True)[1].astype(int)\n",
    "df.columns.name = None\n",
    "\n",
    "df_long = df.\\\n",
    "sort_index(axis=\"columns\").\\\n",
    "reset_index(drop=False).\\\n",
    "melt(\n",
    "    id_vars=\"HUGO\",\n",
    "    var_name=\"day\",\n",
    "    value_name=\"log2fc\",\n",
    ")"
   ]
  },
  {
   "cell_type": "code",
   "execution_count": 3,
   "id": "9dd5230c-376e-43b3-854e-1013ab6e1dcc",
   "metadata": {},
   "outputs": [],
   "source": [
    "pols = [\"POLH\", \"POLK\", \"POLI\", \"POLL\", \"POLM\", \"POLQ\", \"POLN\", \"POLA2\", \"PRIM1\", \"PRIM2\", \"POLD1\", \"POLD2\", \"POLD3\", \"POLD4\", \"POLE2\", \"POLE3\", \"POLE4\", \"POLG2\", \"POLB\"]\n",
    "high_fidelity = [\"POLA2\", \"PRIM1\", \"PRIM2\", \"POLD1\", \"POLD2\", \"POLD3\", \"POLD4\", \"POLE2\", \"POLE3\", \"POLE4\", \"POLG2\", \"POLB\"]"
   ]
  },
  {
   "cell_type": "code",
   "execution_count": 43,
   "id": "80a48f7c-81ba-4813-a2bc-c8b0f51d9d89",
   "metadata": {},
   "outputs": [
    {
     "data": {
      "text/html": [
       "\n",
       "<style>\n",
       "  #altair-viz-4d45f91d43fb434e902ffae40e3f20f0.vega-embed {\n",
       "    width: 100%;\n",
       "    display: flex;\n",
       "  }\n",
       "\n",
       "  #altair-viz-4d45f91d43fb434e902ffae40e3f20f0.vega-embed details,\n",
       "  #altair-viz-4d45f91d43fb434e902ffae40e3f20f0.vega-embed details summary {\n",
       "    position: relative;\n",
       "  }\n",
       "</style>\n",
       "<div id=\"altair-viz-4d45f91d43fb434e902ffae40e3f20f0\"></div>\n",
       "<script type=\"text/javascript\">\n",
       "  var VEGA_DEBUG = (typeof VEGA_DEBUG == \"undefined\") ? {} : VEGA_DEBUG;\n",
       "  (function(spec, embedOpt){\n",
       "    let outputDiv = document.currentScript.previousElementSibling;\n",
       "    if (outputDiv.id !== \"altair-viz-4d45f91d43fb434e902ffae40e3f20f0\") {\n",
       "      outputDiv = document.getElementById(\"altair-viz-4d45f91d43fb434e902ffae40e3f20f0\");\n",
       "    }\n",
       "    const paths = {\n",
       "      \"vega\": \"https://cdn.jsdelivr.net/npm/vega@5?noext\",\n",
       "      \"vega-lib\": \"https://cdn.jsdelivr.net/npm/vega-lib?noext\",\n",
       "      \"vega-lite\": \"https://cdn.jsdelivr.net/npm/vega-lite@5.15.1?noext\",\n",
       "      \"vega-embed\": \"https://cdn.jsdelivr.net/npm/vega-embed@6?noext\",\n",
       "    };\n",
       "\n",
       "    function maybeLoadScript(lib, version) {\n",
       "      var key = `${lib.replace(\"-\", \"\")}_version`;\n",
       "      return (VEGA_DEBUG[key] == version) ?\n",
       "        Promise.resolve(paths[lib]) :\n",
       "        new Promise(function(resolve, reject) {\n",
       "          var s = document.createElement('script');\n",
       "          document.getElementsByTagName(\"head\")[0].appendChild(s);\n",
       "          s.async = true;\n",
       "          s.onload = () => {\n",
       "            VEGA_DEBUG[key] = version;\n",
       "            return resolve(paths[lib]);\n",
       "          };\n",
       "          s.onerror = () => reject(`Error loading script: ${paths[lib]}`);\n",
       "          s.src = paths[lib];\n",
       "        });\n",
       "    }\n",
       "\n",
       "    function showError(err) {\n",
       "      outputDiv.innerHTML = `<div class=\"error\" style=\"color:red;\">${err}</div>`;\n",
       "      throw err;\n",
       "    }\n",
       "\n",
       "    function displayChart(vegaEmbed) {\n",
       "      vegaEmbed(outputDiv, spec, embedOpt)\n",
       "        .catch(err => showError(`Javascript Error: ${err.message}<br>This usually means there's a typo in your chart specification. See the javascript console for the full traceback.`));\n",
       "    }\n",
       "\n",
       "    if(typeof define === \"function\" && define.amd) {\n",
       "      requirejs.config({paths});\n",
       "      require([\"vega-embed\"], displayChart, err => showError(`Error loading script: ${err.message}`));\n",
       "    } else {\n",
       "      maybeLoadScript(\"vega\", \"5\")\n",
       "        .then(() => maybeLoadScript(\"vega-lite\", \"5.15.1\"))\n",
       "        .then(() => maybeLoadScript(\"vega-embed\", \"6\"))\n",
       "        .catch(showError)\n",
       "        .then(() => displayChart(vegaEmbed));\n",
       "    }\n",
       "  })({\"config\": {\"view\": {\"continuousWidth\": 300, \"continuousHeight\": 300}}, \"data\": {\"name\": \"data-685b9dcfab0e03385878c6045aa68b07\"}, \"mark\": {\"type\": \"bar\"}, \"encoding\": {\"color\": {\"field\": \"fidelity\", \"scale\": {\"range\": [\"#892b23\", \"#499465\"]}, \"title\": null, \"type\": \"nominal\"}, \"row\": {\"field\": \"day\", \"header\": {\"labelAngle\": 0, \"labelOrient\": \"right\"}, \"sort\": [\"Day 2\", \"Day 2\", \"Day 2\", \"Day 2\", \"Day 2\", \"Day 2\", \"Day 2\", \"Day 2\", \"Day 2\", \"Day 2\", \"Day 2\", \"Day 2\", \"Day 2\", \"Day 2\", \"Day 2\", \"Day 2\", \"Day 2\", \"Day 2\", \"Day 2\", \"Day 4\", \"Day 4\", \"Day 4\", \"Day 4\", \"Day 4\", \"Day 4\", \"Day 4\", \"Day 4\", \"Day 4\", \"Day 4\", \"Day 4\", \"Day 4\", \"Day 4\", \"Day 4\", \"Day 4\", \"Day 4\", \"Day 4\", \"Day 4\", \"Day 4\", \"Day 14\", \"Day 14\", \"Day 14\", \"Day 14\", \"Day 14\", \"Day 14\", \"Day 14\", \"Day 14\", \"Day 14\", \"Day 14\", \"Day 14\", \"Day 14\", \"Day 14\", \"Day 14\", \"Day 14\", \"Day 14\", \"Day 14\", \"Day 14\", \"Day 14\", \"Day 36\", \"Day 36\", \"Day 36\", \"Day 36\", \"Day 36\", \"Day 36\", \"Day 36\", \"Day 36\", \"Day 36\", \"Day 36\", \"Day 36\", \"Day 36\", \"Day 36\", \"Day 36\", \"Day 36\", \"Day 36\", \"Day 36\", \"Day 36\", \"Day 36\", \"Day 39\", \"Day 39\", \"Day 39\", \"Day 39\", \"Day 39\", \"Day 39\", \"Day 39\", \"Day 39\", \"Day 39\", \"Day 39\", \"Day 39\", \"Day 39\", \"Day 39\", \"Day 39\", \"Day 39\", \"Day 39\", \"Day 39\", \"Day 39\", \"Day 39\", \"Day 40\", \"Day 40\", \"Day 40\", \"Day 40\", \"Day 40\", \"Day 40\", \"Day 40\", \"Day 40\", \"Day 40\", \"Day 40\", \"Day 40\", \"Day 40\", \"Day 40\", \"Day 40\", \"Day 40\", \"Day 40\", \"Day 40\", \"Day 40\", \"Day 40\", \"Day 125\", \"Day 125\", \"Day 125\", \"Day 125\", \"Day 125\", \"Day 125\", \"Day 125\", \"Day 125\", \"Day 125\", \"Day 125\", \"Day 125\", \"Day 125\", \"Day 125\", \"Day 125\", \"Day 125\", \"Day 125\", \"Day 125\", \"Day 125\", \"Day 125\", \"Day 130\", \"Day 130\", \"Day 130\", \"Day 130\", \"Day 130\", \"Day 130\", \"Day 130\", \"Day 130\", \"Day 130\", \"Day 130\", \"Day 130\", \"Day 130\", \"Day 130\", \"Day 130\", \"Day 130\", \"Day 130\", \"Day 130\", \"Day 130\", \"Day 130\", \"Day 250\", \"Day 250\", \"Day 250\", \"Day 250\", \"Day 250\", \"Day 250\", \"Day 250\", \"Day 250\", \"Day 250\", \"Day 250\", \"Day 250\", \"Day 250\", \"Day 250\", \"Day 250\", \"Day 250\", \"Day 250\", \"Day 250\", \"Day 250\", \"Day 250\"], \"title\": null, \"type\": \"nominal\"}, \"x\": {\"axis\": {\"labelAngle\": 325}, \"field\": \"HUGO\", \"sort\": [\"POLH\", \"POLK\", \"POLI\", \"POLL\", \"POLM\", \"POLQ\", \"POLN\", \"POLA2\", \"PRIM1\", \"PRIM2\", \"POLD1\", \"POLD2\", \"POLD3\", \"POLD4\", \"POLE2\", \"POLE3\", \"POLE4\", \"POLG2\", \"POLB\"], \"title\": null, \"type\": \"nominal\"}, \"y\": {\"axis\": {\"title\": null}, \"field\": \"log2fc\", \"type\": \"quantitative\"}}, \"height\": 50, \"width\": 400, \"$schema\": \"https://vega.github.io/schema/vega-lite/v5.15.1.json\", \"datasets\": {\"data-685b9dcfab0e03385878c6045aa68b07\": [{\"HUGO\": \"POLA2\", \"day\": \"Day 2\", \"log2fc\": -2.461396288, \"fidelity\": \"high-fidelity\"}, {\"HUGO\": \"POLB\", \"day\": \"Day 2\", \"log2fc\": null, \"fidelity\": \"high-fidelity\"}, {\"HUGO\": \"POLD1\", \"day\": \"Day 2\", \"log2fc\": -1.731632464, \"fidelity\": \"high-fidelity\"}, {\"HUGO\": \"POLD2\", \"day\": \"Day 2\", \"log2fc\": -1.260008721, \"fidelity\": \"high-fidelity\"}, {\"HUGO\": \"POLD3\", \"day\": \"Day 2\", \"log2fc\": -2.167069721, \"fidelity\": \"high-fidelity\"}, {\"HUGO\": \"POLD4\", \"day\": \"Day 2\", \"log2fc\": 0.943203213, \"fidelity\": \"high-fidelity\"}, {\"HUGO\": \"POLE2\", \"day\": \"Day 2\", \"log2fc\": -5.042009871, \"fidelity\": \"high-fidelity\"}, {\"HUGO\": \"POLE3\", \"day\": \"Day 2\", \"log2fc\": -1.584199044, \"fidelity\": \"high-fidelity\"}, {\"HUGO\": \"POLE4\", \"day\": \"Day 2\", \"log2fc\": -1.251267188, \"fidelity\": \"high-fidelity\"}, {\"HUGO\": \"POLG2\", \"day\": \"Day 2\", \"log2fc\": null, \"fidelity\": \"high-fidelity\"}, {\"HUGO\": \"POLH\", \"day\": \"Day 2\", \"log2fc\": -0.83555953, \"fidelity\": \"error-prone\"}, {\"HUGO\": \"POLI\", \"day\": \"Day 2\", \"log2fc\": 0.912947879, \"fidelity\": \"error-prone\"}, {\"HUGO\": \"POLK\", \"day\": \"Day 2\", \"log2fc\": 2.301452531, \"fidelity\": \"error-prone\"}, {\"HUGO\": \"POLL\", \"day\": \"Day 2\", \"log2fc\": 1.238594821, \"fidelity\": \"error-prone\"}, {\"HUGO\": \"POLM\", \"day\": \"Day 2\", \"log2fc\": 0.629993435, \"fidelity\": \"error-prone\"}, {\"HUGO\": \"POLN\", \"day\": \"Day 2\", \"log2fc\": 2.690144211, \"fidelity\": \"error-prone\"}, {\"HUGO\": \"POLQ\", \"day\": \"Day 2\", \"log2fc\": -4.590783773, \"fidelity\": \"error-prone\"}, {\"HUGO\": \"PRIM1\", \"day\": \"Day 2\", \"log2fc\": -3.422101696, \"fidelity\": \"high-fidelity\"}, {\"HUGO\": \"PRIM2\", \"day\": \"Day 2\", \"log2fc\": -1.472219353, \"fidelity\": \"high-fidelity\"}, {\"HUGO\": \"POLA2\", \"day\": \"Day 4\", \"log2fc\": -1.5928366101625575, \"fidelity\": \"high-fidelity\"}, {\"HUGO\": \"POLB\", \"day\": \"Day 4\", \"log2fc\": null, \"fidelity\": \"high-fidelity\"}, {\"HUGO\": \"POLD1\", \"day\": \"Day 4\", \"log2fc\": -1.3890305436994226, \"fidelity\": \"high-fidelity\"}, {\"HUGO\": \"POLD2\", \"day\": \"Day 4\", \"log2fc\": -0.7738573228999277, \"fidelity\": \"high-fidelity\"}, {\"HUGO\": \"POLD3\", \"day\": \"Day 4\", \"log2fc\": -1.7086033342730147, \"fidelity\": \"high-fidelity\"}, {\"HUGO\": \"POLD4\", \"day\": \"Day 4\", \"log2fc\": null, \"fidelity\": \"high-fidelity\"}, {\"HUGO\": \"POLE2\", \"day\": \"Day 4\", \"log2fc\": -2.8699913219997466, \"fidelity\": \"high-fidelity\"}, {\"HUGO\": \"POLE3\", \"day\": \"Day 4\", \"log2fc\": -1.0439296167132004, \"fidelity\": \"high-fidelity\"}, {\"HUGO\": \"POLE4\", \"day\": \"Day 4\", \"log2fc\": -1.0404349520860283, \"fidelity\": \"high-fidelity\"}, {\"HUGO\": \"POLG2\", \"day\": \"Day 4\", \"log2fc\": null, \"fidelity\": \"high-fidelity\"}, {\"HUGO\": \"POLH\", \"day\": \"Day 4\", \"log2fc\": -0.6485529979322874, \"fidelity\": \"error-prone\"}, {\"HUGO\": \"POLI\", \"day\": \"Day 4\", \"log2fc\": 0.9393409475503816, \"fidelity\": \"error-prone\"}, {\"HUGO\": \"POLK\", \"day\": \"Day 4\", \"log2fc\": 1.906297292857597, \"fidelity\": \"error-prone\"}, {\"HUGO\": \"POLL\", \"day\": \"Day 4\", \"log2fc\": 0.7486073128866063, \"fidelity\": \"error-prone\"}, {\"HUGO\": \"POLM\", \"day\": \"Day 4\", \"log2fc\": 0.6816978327830013, \"fidelity\": \"error-prone\"}, {\"HUGO\": \"POLN\", \"day\": \"Day 4\", \"log2fc\": 1.852290693679953, \"fidelity\": \"error-prone\"}, {\"HUGO\": \"POLQ\", \"day\": \"Day 4\", \"log2fc\": -2.39314959939604, \"fidelity\": \"error-prone\"}, {\"HUGO\": \"PRIM1\", \"day\": \"Day 4\", \"log2fc\": -2.277555347801454, \"fidelity\": \"high-fidelity\"}, {\"HUGO\": \"PRIM2\", \"day\": \"Day 4\", \"log2fc\": -1.1804578654110625, \"fidelity\": \"high-fidelity\"}, {\"HUGO\": \"POLA2\", \"day\": \"Day 14\", \"log2fc\": -1.6384944532006875, \"fidelity\": \"high-fidelity\"}, {\"HUGO\": \"POLB\", \"day\": \"Day 14\", \"log2fc\": 0.7465510755310159, \"fidelity\": \"high-fidelity\"}, {\"HUGO\": \"POLD1\", \"day\": \"Day 14\", \"log2fc\": -1.595108570584138, \"fidelity\": \"high-fidelity\"}, {\"HUGO\": \"POLD2\", \"day\": \"Day 14\", \"log2fc\": -0.6937690903295302, \"fidelity\": \"high-fidelity\"}, {\"HUGO\": \"POLD3\", \"day\": \"Day 14\", \"log2fc\": -1.865535607413039, \"fidelity\": \"high-fidelity\"}, {\"HUGO\": \"POLD4\", \"day\": \"Day 14\", \"log2fc\": 0.9101027586081086, \"fidelity\": \"high-fidelity\"}, {\"HUGO\": \"POLE2\", \"day\": \"Day 14\", \"log2fc\": -3.420030043436508, \"fidelity\": \"high-fidelity\"}, {\"HUGO\": \"POLE3\", \"day\": \"Day 14\", \"log2fc\": -0.9748124180819516, \"fidelity\": \"high-fidelity\"}, {\"HUGO\": \"POLE4\", \"day\": \"Day 14\", \"log2fc\": -1.0824380708785275, \"fidelity\": \"high-fidelity\"}, {\"HUGO\": \"POLG2\", \"day\": \"Day 14\", \"log2fc\": null, \"fidelity\": \"high-fidelity\"}, {\"HUGO\": \"POLH\", \"day\": \"Day 14\", \"log2fc\": null, \"fidelity\": \"error-prone\"}, {\"HUGO\": \"POLI\", \"day\": \"Day 14\", \"log2fc\": 0.82925368017619, \"fidelity\": \"error-prone\"}, {\"HUGO\": \"POLK\", \"day\": \"Day 14\", \"log2fc\": 1.9680404605029804, \"fidelity\": \"error-prone\"}, {\"HUGO\": \"POLL\", \"day\": \"Day 14\", \"log2fc\": 0.7029369730562735, \"fidelity\": \"error-prone\"}, {\"HUGO\": \"POLM\", \"day\": \"Day 14\", \"log2fc\": 0.8288278649399744, \"fidelity\": \"error-prone\"}, {\"HUGO\": \"POLN\", \"day\": \"Day 14\", \"log2fc\": 2.057988215969325, \"fidelity\": \"error-prone\"}, {\"HUGO\": \"POLQ\", \"day\": \"Day 14\", \"log2fc\": -2.413192050909704, \"fidelity\": \"error-prone\"}, {\"HUGO\": \"PRIM1\", \"day\": \"Day 14\", \"log2fc\": -2.1917217073119346, \"fidelity\": \"high-fidelity\"}, {\"HUGO\": \"PRIM2\", \"day\": \"Day 14\", \"log2fc\": -0.9910823034224112, \"fidelity\": \"high-fidelity\"}, {\"HUGO\": \"POLA2\", \"day\": \"Day 36\", \"log2fc\": -0.7279924245817083, \"fidelity\": \"high-fidelity\"}, {\"HUGO\": \"POLB\", \"day\": \"Day 36\", \"log2fc\": null, \"fidelity\": \"high-fidelity\"}, {\"HUGO\": \"POLD1\", \"day\": \"Day 36\", \"log2fc\": -1.2788109189238073, \"fidelity\": \"high-fidelity\"}, {\"HUGO\": \"POLD2\", \"day\": \"Day 36\", \"log2fc\": -0.5813708729391277, \"fidelity\": \"high-fidelity\"}, {\"HUGO\": \"POLD3\", \"day\": \"Day 36\", \"log2fc\": -1.4735281947785823, \"fidelity\": \"high-fidelity\"}, {\"HUGO\": \"POLD4\", \"day\": \"Day 36\", \"log2fc\": 0.8895671022798332, \"fidelity\": \"high-fidelity\"}, {\"HUGO\": \"POLE2\", \"day\": \"Day 36\", \"log2fc\": -1.8381067447370187, \"fidelity\": \"high-fidelity\"}, {\"HUGO\": \"POLE3\", \"day\": \"Day 36\", \"log2fc\": -0.8377126954366582, \"fidelity\": \"high-fidelity\"}, {\"HUGO\": \"POLE4\", \"day\": \"Day 36\", \"log2fc\": -1.0060624710778434, \"fidelity\": \"high-fidelity\"}, {\"HUGO\": \"POLG2\", \"day\": \"Day 36\", \"log2fc\": null, \"fidelity\": \"high-fidelity\"}, {\"HUGO\": \"POLH\", \"day\": \"Day 36\", \"log2fc\": null, \"fidelity\": \"error-prone\"}, {\"HUGO\": \"POLI\", \"day\": \"Day 36\", \"log2fc\": 0.7074969165905313, \"fidelity\": \"error-prone\"}, {\"HUGO\": \"POLK\", \"day\": \"Day 36\", \"log2fc\": 1.305703590631471, \"fidelity\": \"error-prone\"}, {\"HUGO\": \"POLL\", \"day\": \"Day 36\", \"log2fc\": null, \"fidelity\": \"error-prone\"}, {\"HUGO\": \"POLM\", \"day\": \"Day 36\", \"log2fc\": null, \"fidelity\": \"error-prone\"}, {\"HUGO\": \"POLN\", \"day\": \"Day 36\", \"log2fc\": 2.201214107708006, \"fidelity\": \"error-prone\"}, {\"HUGO\": \"POLQ\", \"day\": \"Day 36\", \"log2fc\": -1.5216577117638297, \"fidelity\": \"error-prone\"}, {\"HUGO\": \"PRIM1\", \"day\": \"Day 36\", \"log2fc\": -1.950835758299502, \"fidelity\": \"high-fidelity\"}, {\"HUGO\": \"PRIM2\", \"day\": \"Day 36\", \"log2fc\": -1.1353029853790595, \"fidelity\": \"high-fidelity\"}, {\"HUGO\": \"POLA2\", \"day\": \"Day 39\", \"log2fc\": -1.127526698, \"fidelity\": \"high-fidelity\"}, {\"HUGO\": \"POLB\", \"day\": \"Day 39\", \"log2fc\": 0.608870692, \"fidelity\": \"high-fidelity\"}, {\"HUGO\": \"POLD1\", \"day\": \"Day 39\", \"log2fc\": -0.929982146, \"fidelity\": \"high-fidelity\"}, {\"HUGO\": \"POLD2\", \"day\": \"Day 39\", \"log2fc\": null, \"fidelity\": \"high-fidelity\"}, {\"HUGO\": \"POLD3\", \"day\": \"Day 39\", \"log2fc\": -1.022489748, \"fidelity\": \"high-fidelity\"}, {\"HUGO\": \"POLD4\", \"day\": \"Day 39\", \"log2fc\": 1.364716482, \"fidelity\": \"high-fidelity\"}, {\"HUGO\": \"POLE2\", \"day\": \"Day 39\", \"log2fc\": -2.357725321, \"fidelity\": \"high-fidelity\"}, {\"HUGO\": \"POLE3\", \"day\": \"Day 39\", \"log2fc\": -1.300801977, \"fidelity\": \"high-fidelity\"}, {\"HUGO\": \"POLE4\", \"day\": \"Day 39\", \"log2fc\": -2.130426636, \"fidelity\": \"high-fidelity\"}, {\"HUGO\": \"POLG2\", \"day\": \"Day 39\", \"log2fc\": 0.602753004, \"fidelity\": \"high-fidelity\"}, {\"HUGO\": \"POLH\", \"day\": \"Day 39\", \"log2fc\": -0.615488515, \"fidelity\": \"error-prone\"}, {\"HUGO\": \"POLI\", \"day\": \"Day 39\", \"log2fc\": 1.072787964, \"fidelity\": \"error-prone\"}, {\"HUGO\": \"POLK\", \"day\": \"Day 39\", \"log2fc\": null, \"fidelity\": \"error-prone\"}, {\"HUGO\": \"POLL\", \"day\": \"Day 39\", \"log2fc\": 1.010373204, \"fidelity\": \"error-prone\"}, {\"HUGO\": \"POLM\", \"day\": \"Day 39\", \"log2fc\": 0.9800348, \"fidelity\": \"error-prone\"}, {\"HUGO\": \"POLN\", \"day\": \"Day 39\", \"log2fc\": 0.868965055, \"fidelity\": \"error-prone\"}, {\"HUGO\": \"POLQ\", \"day\": \"Day 39\", \"log2fc\": -1.674683056, \"fidelity\": \"error-prone\"}, {\"HUGO\": \"PRIM1\", \"day\": \"Day 39\", \"log2fc\": -1.747883324, \"fidelity\": \"high-fidelity\"}, {\"HUGO\": \"PRIM2\", \"day\": \"Day 39\", \"log2fc\": -1.189620805, \"fidelity\": \"high-fidelity\"}, {\"HUGO\": \"POLA2\", \"day\": \"Day 40\", \"log2fc\": -0.8702567423320882, \"fidelity\": \"high-fidelity\"}, {\"HUGO\": \"POLB\", \"day\": \"Day 40\", \"log2fc\": null, \"fidelity\": \"high-fidelity\"}, {\"HUGO\": \"POLD1\", \"day\": \"Day 40\", \"log2fc\": -1.1212970925542112, \"fidelity\": \"high-fidelity\"}, {\"HUGO\": \"POLD2\", \"day\": \"Day 40\", \"log2fc\": null, \"fidelity\": \"high-fidelity\"}, {\"HUGO\": \"POLD3\", \"day\": \"Day 40\", \"log2fc\": -1.2799808443233895, \"fidelity\": \"high-fidelity\"}, {\"HUGO\": \"POLD4\", \"day\": \"Day 40\", \"log2fc\": 0.5934766167327745, \"fidelity\": \"high-fidelity\"}, {\"HUGO\": \"POLE2\", \"day\": \"Day 40\", \"log2fc\": -2.236757523923164, \"fidelity\": \"high-fidelity\"}, {\"HUGO\": \"POLE3\", \"day\": \"Day 40\", \"log2fc\": -0.9889066717274244, \"fidelity\": \"high-fidelity\"}, {\"HUGO\": \"POLE4\", \"day\": \"Day 40\", \"log2fc\": -1.1040568204686254, \"fidelity\": \"high-fidelity\"}, {\"HUGO\": \"POLG2\", \"day\": \"Day 40\", \"log2fc\": null, \"fidelity\": \"high-fidelity\"}, {\"HUGO\": \"POLH\", \"day\": \"Day 40\", \"log2fc\": null, \"fidelity\": \"error-prone\"}, {\"HUGO\": \"POLI\", \"day\": \"Day 40\", \"log2fc\": 0.8208857399091054, \"fidelity\": \"error-prone\"}, {\"HUGO\": \"POLK\", \"day\": \"Day 40\", \"log2fc\": 0.939437052540066, \"fidelity\": \"error-prone\"}, {\"HUGO\": \"POLL\", \"day\": \"Day 40\", \"log2fc\": 0.761483129076197, \"fidelity\": \"error-prone\"}, {\"HUGO\": \"POLM\", \"day\": \"Day 40\", \"log2fc\": 0.8151976570587692, \"fidelity\": \"error-prone\"}, {\"HUGO\": \"POLN\", \"day\": \"Day 40\", \"log2fc\": 2.155794338411253, \"fidelity\": \"error-prone\"}, {\"HUGO\": \"POLQ\", \"day\": \"Day 40\", \"log2fc\": -1.4352398119932317, \"fidelity\": \"error-prone\"}, {\"HUGO\": \"PRIM1\", \"day\": \"Day 40\", \"log2fc\": -1.7162654614789052, \"fidelity\": \"high-fidelity\"}, {\"HUGO\": \"PRIM2\", \"day\": \"Day 40\", \"log2fc\": -1.1478329775645852, \"fidelity\": \"high-fidelity\"}, {\"HUGO\": \"POLA2\", \"day\": \"Day 125\", \"log2fc\": null, \"fidelity\": \"high-fidelity\"}, {\"HUGO\": \"POLB\", \"day\": \"Day 125\", \"log2fc\": null, \"fidelity\": \"high-fidelity\"}, {\"HUGO\": \"POLD1\", \"day\": \"Day 125\", \"log2fc\": null, \"fidelity\": \"high-fidelity\"}, {\"HUGO\": \"POLD2\", \"day\": \"Day 125\", \"log2fc\": null, \"fidelity\": \"high-fidelity\"}, {\"HUGO\": \"POLD3\", \"day\": \"Day 125\", \"log2fc\": null, \"fidelity\": \"high-fidelity\"}, {\"HUGO\": \"POLD4\", \"day\": \"Day 125\", \"log2fc\": 0.7168395858755466, \"fidelity\": \"high-fidelity\"}, {\"HUGO\": \"POLE2\", \"day\": \"Day 125\", \"log2fc\": -1.3729954277309708, \"fidelity\": \"high-fidelity\"}, {\"HUGO\": \"POLE3\", \"day\": \"Day 125\", \"log2fc\": null, \"fidelity\": \"high-fidelity\"}, {\"HUGO\": \"POLE4\", \"day\": \"Day 125\", \"log2fc\": null, \"fidelity\": \"high-fidelity\"}, {\"HUGO\": \"POLG2\", \"day\": \"Day 125\", \"log2fc\": -0.6449398489523065, \"fidelity\": \"high-fidelity\"}, {\"HUGO\": \"POLH\", \"day\": \"Day 125\", \"log2fc\": 0.6788222213407319, \"fidelity\": \"error-prone\"}, {\"HUGO\": \"POLI\", \"day\": \"Day 125\", \"log2fc\": null, \"fidelity\": \"error-prone\"}, {\"HUGO\": \"POLK\", \"day\": \"Day 125\", \"log2fc\": null, \"fidelity\": \"error-prone\"}, {\"HUGO\": \"POLL\", \"day\": \"Day 125\", \"log2fc\": null, \"fidelity\": \"error-prone\"}, {\"HUGO\": \"POLM\", \"day\": \"Day 125\", \"log2fc\": null, \"fidelity\": \"error-prone\"}, {\"HUGO\": \"POLN\", \"day\": \"Day 125\", \"log2fc\": 1.4675878308152803, \"fidelity\": \"error-prone\"}, {\"HUGO\": \"POLQ\", \"day\": \"Day 125\", \"log2fc\": null, \"fidelity\": \"error-prone\"}, {\"HUGO\": \"PRIM1\", \"day\": \"Day 125\", \"log2fc\": -0.6745015562341268, \"fidelity\": \"high-fidelity\"}, {\"HUGO\": \"PRIM2\", \"day\": \"Day 125\", \"log2fc\": null, \"fidelity\": \"high-fidelity\"}, {\"HUGO\": \"POLA2\", \"day\": \"Day 130\", \"log2fc\": null, \"fidelity\": \"high-fidelity\"}, {\"HUGO\": \"POLB\", \"day\": \"Day 130\", \"log2fc\": null, \"fidelity\": \"high-fidelity\"}, {\"HUGO\": \"POLD1\", \"day\": \"Day 130\", \"log2fc\": null, \"fidelity\": \"high-fidelity\"}, {\"HUGO\": \"POLD2\", \"day\": \"Day 130\", \"log2fc\": null, \"fidelity\": \"high-fidelity\"}, {\"HUGO\": \"POLD3\", \"day\": \"Day 130\", \"log2fc\": null, \"fidelity\": \"high-fidelity\"}, {\"HUGO\": \"POLD4\", \"day\": \"Day 130\", \"log2fc\": null, \"fidelity\": \"high-fidelity\"}, {\"HUGO\": \"POLE2\", \"day\": \"Day 130\", \"log2fc\": -0.6798142222777814, \"fidelity\": \"high-fidelity\"}, {\"HUGO\": \"POLE3\", \"day\": \"Day 130\", \"log2fc\": null, \"fidelity\": \"high-fidelity\"}, {\"HUGO\": \"POLE4\", \"day\": \"Day 130\", \"log2fc\": null, \"fidelity\": \"high-fidelity\"}, {\"HUGO\": \"POLG2\", \"day\": \"Day 130\", \"log2fc\": null, \"fidelity\": \"high-fidelity\"}, {\"HUGO\": \"POLH\", \"day\": \"Day 130\", \"log2fc\": null, \"fidelity\": \"error-prone\"}, {\"HUGO\": \"POLI\", \"day\": \"Day 130\", \"log2fc\": null, \"fidelity\": \"error-prone\"}, {\"HUGO\": \"POLK\", \"day\": \"Day 130\", \"log2fc\": null, \"fidelity\": \"error-prone\"}, {\"HUGO\": \"POLL\", \"day\": \"Day 130\", \"log2fc\": null, \"fidelity\": \"error-prone\"}, {\"HUGO\": \"POLM\", \"day\": \"Day 130\", \"log2fc\": null, \"fidelity\": \"error-prone\"}, {\"HUGO\": \"POLN\", \"day\": \"Day 130\", \"log2fc\": null, \"fidelity\": \"error-prone\"}, {\"HUGO\": \"POLQ\", \"day\": \"Day 130\", \"log2fc\": null, \"fidelity\": \"error-prone\"}, {\"HUGO\": \"PRIM1\", \"day\": \"Day 130\", \"log2fc\": null, \"fidelity\": \"high-fidelity\"}, {\"HUGO\": \"PRIM2\", \"day\": \"Day 130\", \"log2fc\": null, \"fidelity\": \"high-fidelity\"}, {\"HUGO\": \"POLA2\", \"day\": \"Day 250\", \"log2fc\": null, \"fidelity\": \"high-fidelity\"}, {\"HUGO\": \"POLB\", \"day\": \"Day 250\", \"log2fc\": null, \"fidelity\": \"high-fidelity\"}, {\"HUGO\": \"POLD1\", \"day\": \"Day 250\", \"log2fc\": null, \"fidelity\": \"high-fidelity\"}, {\"HUGO\": \"POLD2\", \"day\": \"Day 250\", \"log2fc\": null, \"fidelity\": \"high-fidelity\"}, {\"HUGO\": \"POLD3\", \"day\": \"Day 250\", \"log2fc\": null, \"fidelity\": \"high-fidelity\"}, {\"HUGO\": \"POLD4\", \"day\": \"Day 250\", \"log2fc\": null, \"fidelity\": \"high-fidelity\"}, {\"HUGO\": \"POLE2\", \"day\": \"Day 250\", \"log2fc\": -0.6785515000171997, \"fidelity\": \"high-fidelity\"}, {\"HUGO\": \"POLE3\", \"day\": \"Day 250\", \"log2fc\": null, \"fidelity\": \"high-fidelity\"}, {\"HUGO\": \"POLE4\", \"day\": \"Day 250\", \"log2fc\": null, \"fidelity\": \"high-fidelity\"}, {\"HUGO\": \"POLG2\", \"day\": \"Day 250\", \"log2fc\": null, \"fidelity\": \"high-fidelity\"}, {\"HUGO\": \"POLH\", \"day\": \"Day 250\", \"log2fc\": null, \"fidelity\": \"error-prone\"}, {\"HUGO\": \"POLI\", \"day\": \"Day 250\", \"log2fc\": null, \"fidelity\": \"error-prone\"}, {\"HUGO\": \"POLK\", \"day\": \"Day 250\", \"log2fc\": null, \"fidelity\": \"error-prone\"}, {\"HUGO\": \"POLL\", \"day\": \"Day 250\", \"log2fc\": null, \"fidelity\": \"error-prone\"}, {\"HUGO\": \"POLM\", \"day\": \"Day 250\", \"log2fc\": null, \"fidelity\": \"error-prone\"}, {\"HUGO\": \"POLN\", \"day\": \"Day 250\", \"log2fc\": null, \"fidelity\": \"error-prone\"}, {\"HUGO\": \"POLQ\", \"day\": \"Day 250\", \"log2fc\": null, \"fidelity\": \"error-prone\"}, {\"HUGO\": \"PRIM1\", \"day\": \"Day 250\", \"log2fc\": null, \"fidelity\": \"high-fidelity\"}, {\"HUGO\": \"PRIM2\", \"day\": \"Day 250\", \"log2fc\": null, \"fidelity\": \"high-fidelity\"}]}}, {\"mode\": \"vega-lite\"});\n",
       "</script>"
      ],
      "text/plain": [
       "alt.Chart(...)"
      ]
     },
     "execution_count": 43,
     "metadata": {},
     "output_type": "execute_result"
    }
   ],
   "source": [
    "df_sel = df_long[df_long.HUGO.isin(pols)]\n",
    "df_sel = df_sel.assign(\n",
    "    fidelity=np.where(df_sel.HUGO.isin(high_fidelity), \"high-fidelity\", \"error-prone\"),\n",
    "    day=\"Day \" + df_sel.day.astype(str),\n",
    ")\n",
    "\n",
    "alt.Chart(df_sel).mark_bar().encode(\n",
    "    x=alt.X(\n",
    "        \"HUGO\",\n",
    "        sort=pols,\n",
    "        title=None,\n",
    "        axis=alt.Axis(\n",
    "            labelAngle=325,\n",
    "        ),\n",
    "    ),\n",
    "    y=alt.Y(\n",
    "        \"log2fc\",\n",
    "        axis=alt.Axis(title=None),\n",
    "    ),\n",
    "    row=alt.Row(\n",
    "        \"day\",\n",
    "        title=None,\n",
    "        header=alt.Header(\n",
    "            labelAngle=0,\n",
    "            labelOrient=\"right\",\n",
    "        ),\n",
    "        sort=df_sel.day.values,\n",
    "    ),\n",
    "    color=alt.Color(\n",
    "        \"fidelity\",\n",
    "        title=None,\n",
    "        scale=alt.Scale(\n",
    "            range=[\"#892b23\", \"#499465\"],\n",
    "        ),\n",
    "    )\n",
    ").properties(\n",
    "    height=50,\n",
    "    width=400,\n",
    ")"
   ]
  }
 ],
 "metadata": {
  "kernelspec": {
   "display_name": "Python 3 (ipykernel)",
   "language": "python",
   "name": "python3"
  },
  "language_info": {
   "codemirror_mode": {
    "name": "ipython",
    "version": 3
   },
   "file_extension": ".py",
   "mimetype": "text/x-python",
   "name": "python",
   "nbconvert_exporter": "python",
   "pygments_lexer": "ipython3",
   "version": "3.11.5"
  }
 },
 "nbformat": 4,
 "nbformat_minor": 5
}
